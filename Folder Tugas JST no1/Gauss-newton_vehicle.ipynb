{
 "cells": [
  {
   "attachments": {},
   "cell_type": "markdown",
   "metadata": {},
   "source": [
    "<p>Explaination https://jgoslinski.medium.com/gauss-newton-optimization-can-be-used-for-dynamic-systems-too-python-example-ad1e2df4ec0c </p>"
   ]
  },
  {
   "cell_type": "code",
   "execution_count": 20,
   "metadata": {},
   "outputs": [],
   "source": [
    "import numpy as np\n",
    "\n",
    "\n",
    "class Vehicle:\n",
    "\n",
    "    def __init__(self, x_in, dt, m, u, n):\n",
    "        self.x = x_in\n",
    "        self.m = m  # total mass\n",
    "        self.u = u  # drag coefficient\n",
    "        self.n = n  # size of input vector\n",
    "        self.dt = dt  # sampling time\n",
    "        self.v = np.zeros(n)  # velocity\n",
    "\n",
    "    def simulate(self):\n",
    "        self.v[0] = 0\n",
    "        for i in range(0, self.n):\n",
    "            if i == 0:\n",
    "                self.v[i] = self.dt * self.x[i] / self.m\n",
    "            else:\n",
    "                self.v[i] = self.v[i-1] + (self.x[i]/self.m - (self.u/self.m)*self.v[i-1]*self.v[i-1])*self.dt\n",
    "        print(self.v)\n",
    "        return self.v"
   ]
  },
  {
   "cell_type": "code",
   "execution_count": 21,
   "metadata": {},
   "outputs": [
    {
     "name": "stdout",
     "output_type": "stream",
     "text": [
      "[13.33333333 29.0962963  38.63417035 43.31070486 64.80961532 59.20923367\n",
      " 79.86825587 79.36300481]\n"
     ]
    }
   ],
   "source": [
    "x = np.array([1000, 1200, 800, 500, 1800, 0, 1900, 600]) #force [N]\n",
    "vehicle = Vehicle(x, 20, 1500, 0.1, 8) # dt:=20[s], mass:=1500[kg] #drag coef.= 0.1, vector size:=8\n",
    "v = vehicle.simulate()"
   ]
  },
  {
   "cell_type": "code",
   "execution_count": 22,
   "metadata": {},
   "outputs": [],
   "source": [
    "import numpy as np\n",
    "\n",
    "class GaussNetwonVehicle:\n",
    "\n",
    "    def __init__(self, x_in, y_in, dt):\n",
    "\n",
    "        state_size = 2  # how many parameters we search for\n",
    "\n",
    "        self.beta = [10, 10]  # m and u, zeros here may lead to serious problems np.zeros(state_size)\n",
    "\n",
    "        self.dt = dt  # sampling time in model\n",
    "        self.r_s = y_in.shape[0]  # count how many residuals we have\n",
    "        self.x = x_in  # opt input; time and force\n",
    "        self.y = y_in   # target output; velocity\n",
    "        self.J = np.zeros([self.r_s, state_size])  # Jacobian matrix\n",
    "        self.r = np.zeros(self.r_s)  # residual vector\n",
    "        #self.Jr = np.zeros(state_size)\n",
    "\n",
    "    def set_jacobian(self):\n",
    "        # define the Jacobian matrix row - only the first, the rest will be calculated based on the first\n",
    "        for i in range(0, self.r_s):\n",
    "            if i == 0:\n",
    "                self.J[i, 0] = (self.x[i]/(self.beta[0]*self.beta[0]))*self.dt - \\\n",
    "                           (self.beta[1]/(self.beta[0]*self.beta[0]))*self.dt*0\n",
    "                self.J[i, 1] = (1.0 / self.beta[0]) * self.dt * 0\n",
    "            else:\n",
    "                self.J[i, 0] = (self.x[i] / (self.beta[0] * self.beta[0])) * self.dt - \\\n",
    "                               (self.beta[1] / (self.beta[0] * self.beta[0])) * self.dt * self.y[i - 1] * self.y[i - 1]\n",
    "                self.J[i, 1] = (1.0/self.beta[0])*self.dt*self.y[i-1]*self.y[i-1]\n",
    "    def calc_res(self):\n",
    "        err = 0\n",
    "        for i in range(0, self.r_s):\n",
    "            if i == 0:\n",
    "                self.r[i] = self.y[i] - self.dt*self.x[i]/self.beta[0] + (self.beta[1]/self.beta[0])*self.dt*0\n",
    "            else:\n",
    "                self.r[i] = self.y[i] - self.y[i - 1] - self.dt * self.x[i] / self.beta[0] + \\\n",
    "                            (self.beta[1] / self.beta[0]) * self.dt*self.y[i - 1] * self.y[i - 1]\n",
    "            err = err + self.r[i]*self.r[i]\n",
    "        return err\n",
    "\n",
    "\n",
    "    def opt_step(self):\n",
    "        self.set_jacobian()\n",
    "        err = self.calc_res()\n",
    "        Jt = np.transpose(self.J)\n",
    "        self.beta = self.beta - np.matmul(np.matmul(np.linalg.inv(np.matmul(Jt, self.J)), Jt), self.r)\n",
    "        print(self.beta)\n",
    "        return err\n",
    "\n",
    "    def opt(self, e):\n",
    "\n",
    "        err = 100\n",
    "        errp = 10\n",
    "        while np.abs(err-errp) > e:\n",
    "            errp = err\n",
    "            err = self.opt_step()\n"
   ]
  },
  {
   "cell_type": "code",
   "execution_count": 23,
   "metadata": {},
   "outputs": [
    {
     "name": "stdout",
     "output_type": "stream",
     "text": [
      "[13.33333333 29.0962963  38.63417035 43.31070486 64.80961532 59.20923367\n",
      " 79.86825587 79.36300481]\n",
      "[19.93508718  9.93568804]\n",
      "[39.6122058   9.80831381]\n",
      "[78.20584708  9.55848885]\n",
      "[152.44152565   9.0779453 ]\n",
      "[289.79833786   8.18880505]\n",
      "[525.08089049   6.66577037]\n",
      "[871.19067675   4.42532711]\n",
      "[1249.71043252    1.97508714]\n",
      "[1.48562788e+03 4.47942653e-01]\n",
      "[1.53857122e+03 1.05228975e-01]\n",
      "[1.54052520e+03 9.25804366e-02]\n",
      "[1.54052769e+03 9.25643526e-02]\n",
      "[1.54052769e+03 9.25643525e-02]\n",
      "[12.98256445 28.35909505 37.77867524 42.55482486 63.74722551 58.86377456\n",
      " 79.3667453  79.5865364 ]\n"
     ]
    },
    {
     "data": {
      "image/png": "[encoded data removed]",
      "text/plain": [
       "<Figure size 432x288 with 1 Axes>"
      ]
     },
     "metadata": {
      "needs_background": "light"
     },
     "output_type": "display_data"
    }
   ],
   "source": [
    "xv = np.array([1000, 1200, 800, 500, 1800, 0, 1900, 600]) #forces\n",
    "vehicle = Vehicle(xv, 20, 1500, 0.1, 8)\n",
    "mu, sigma = 0, 0.5 # mean and standard deviation\n",
    "s = np.random.normal(mu, sigma, 8)\n",
    "yv = vehicle.simulate() + s\n",
    "gnv = GaussNetwonVehicle(xv, yv, 20)\n",
    "gnv.opt(0.0001)\n",
    "vehicle = Vehicle(xv, 20, gnv.beta[0], gnv.beta[1], 8)\n",
    "yvs = vehicle.simulate()\n",
    "t = list(range(0, 160, 20))\n",
    "plt.plot(t, yv, 'g', label='original')\n",
    "plt.plot(t, yvs, 'r', label='simulated')\n",
    "plt.ylabel('[m/s]')\n",
    "plt.xlabel('[s]')\n",
    "plt.title('vehicle speed')\n",
    "plt.legend()\n",
    "plt.show()"
   ]
  }
 ],
 "metadata": {
  "kernelspec": {
   "display_name": "Python 3",
   "language": "python",
   "name": "python3"
  },
  "language_info": {
   "codemirror_mode": {
    "name": "ipython",
    "version": 3
   },
   "file_extension": ".py",
   "mimetype": "text/x-python",
   "name": "python",
   "nbconvert_exporter": "python",
   "pygments_lexer": "ipython3",
   "version": "3.10.5"
  },
  "orig_nbformat": 4
 },
 "nbformat": 4,
 "nbformat_minor": 2
}
